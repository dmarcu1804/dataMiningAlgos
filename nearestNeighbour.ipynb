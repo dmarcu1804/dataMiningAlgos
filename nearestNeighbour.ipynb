{
 "cells": [
  {
   "cell_type": "code",
   "execution_count": 197,
   "metadata": {},
   "outputs": [
    {
     "data": {
      "text/html": [
       "<div>\n",
       "<style scoped>\n",
       "    .dataframe tbody tr th:only-of-type {\n",
       "        vertical-align: middle;\n",
       "    }\n",
       "\n",
       "    .dataframe tbody tr th {\n",
       "        vertical-align: top;\n",
       "    }\n",
       "\n",
       "    .dataframe thead th {\n",
       "        text-align: right;\n",
       "    }\n",
       "</style>\n",
       "<table border=\"1\" class=\"dataframe\">\n",
       "  <thead>\n",
       "    <tr style=\"text-align: right;\">\n",
       "      <th></th>\n",
       "      <th>A1</th>\n",
       "      <th>A2</th>\n",
       "      <th>A3</th>\n",
       "      <th>A4</th>\n",
       "      <th>A5</th>\n",
       "      <th>A6</th>\n",
       "      <th>A7</th>\n",
       "      <th>A8</th>\n",
       "      <th>A9</th>\n",
       "      <th>A10</th>\n",
       "      <th>...</th>\n",
       "      <th>A52</th>\n",
       "      <th>A53</th>\n",
       "      <th>A54</th>\n",
       "      <th>A55</th>\n",
       "      <th>A56</th>\n",
       "      <th>A57</th>\n",
       "      <th>A58</th>\n",
       "      <th>A59</th>\n",
       "      <th>A60</th>\n",
       "      <th>Class</th>\n",
       "    </tr>\n",
       "  </thead>\n",
       "  <tbody>\n",
       "    <tr>\n",
       "      <th>0</th>\n",
       "      <td>0.0079</td>\n",
       "      <td>0.0086</td>\n",
       "      <td>0.0055</td>\n",
       "      <td>0.0250</td>\n",
       "      <td>0.0344</td>\n",
       "      <td>0.0546</td>\n",
       "      <td>0.0528</td>\n",
       "      <td>0.0958</td>\n",
       "      <td>0.1009</td>\n",
       "      <td>0.1240</td>\n",
       "      <td>...</td>\n",
       "      <td>0.0176</td>\n",
       "      <td>0.0127</td>\n",
       "      <td>0.0088</td>\n",
       "      <td>0.0098</td>\n",
       "      <td>0.0019</td>\n",
       "      <td>0.0059</td>\n",
       "      <td>0.0058</td>\n",
       "      <td>0.0059</td>\n",
       "      <td>0.0032</td>\n",
       "      <td>R</td>\n",
       "    </tr>\n",
       "    <tr>\n",
       "      <th>1</th>\n",
       "      <td>0.0599</td>\n",
       "      <td>0.0474</td>\n",
       "      <td>0.0498</td>\n",
       "      <td>0.0387</td>\n",
       "      <td>0.1026</td>\n",
       "      <td>0.0773</td>\n",
       "      <td>0.0853</td>\n",
       "      <td>0.0447</td>\n",
       "      <td>0.1094</td>\n",
       "      <td>0.0351</td>\n",
       "      <td>...</td>\n",
       "      <td>0.0013</td>\n",
       "      <td>0.0005</td>\n",
       "      <td>0.0227</td>\n",
       "      <td>0.0209</td>\n",
       "      <td>0.0081</td>\n",
       "      <td>0.0117</td>\n",
       "      <td>0.0114</td>\n",
       "      <td>0.0112</td>\n",
       "      <td>0.0100</td>\n",
       "      <td>M</td>\n",
       "    </tr>\n",
       "    <tr>\n",
       "      <th>2</th>\n",
       "      <td>0.0093</td>\n",
       "      <td>0.0269</td>\n",
       "      <td>0.0217</td>\n",
       "      <td>0.0339</td>\n",
       "      <td>0.0305</td>\n",
       "      <td>0.1172</td>\n",
       "      <td>0.1450</td>\n",
       "      <td>0.0638</td>\n",
       "      <td>0.0740</td>\n",
       "      <td>0.1360</td>\n",
       "      <td>...</td>\n",
       "      <td>0.0212</td>\n",
       "      <td>0.0091</td>\n",
       "      <td>0.0056</td>\n",
       "      <td>0.0086</td>\n",
       "      <td>0.0092</td>\n",
       "      <td>0.0070</td>\n",
       "      <td>0.0116</td>\n",
       "      <td>0.0060</td>\n",
       "      <td>0.0110</td>\n",
       "      <td>R</td>\n",
       "    </tr>\n",
       "    <tr>\n",
       "      <th>3</th>\n",
       "      <td>0.0151</td>\n",
       "      <td>0.0320</td>\n",
       "      <td>0.0599</td>\n",
       "      <td>0.1050</td>\n",
       "      <td>0.1163</td>\n",
       "      <td>0.1734</td>\n",
       "      <td>0.1679</td>\n",
       "      <td>0.1119</td>\n",
       "      <td>0.0889</td>\n",
       "      <td>0.1205</td>\n",
       "      <td>...</td>\n",
       "      <td>0.0061</td>\n",
       "      <td>0.0015</td>\n",
       "      <td>0.0084</td>\n",
       "      <td>0.0128</td>\n",
       "      <td>0.0054</td>\n",
       "      <td>0.0011</td>\n",
       "      <td>0.0019</td>\n",
       "      <td>0.0023</td>\n",
       "      <td>0.0062</td>\n",
       "      <td>R</td>\n",
       "    </tr>\n",
       "    <tr>\n",
       "      <th>4</th>\n",
       "      <td>0.0317</td>\n",
       "      <td>0.0956</td>\n",
       "      <td>0.1321</td>\n",
       "      <td>0.1408</td>\n",
       "      <td>0.1674</td>\n",
       "      <td>0.1710</td>\n",
       "      <td>0.0731</td>\n",
       "      <td>0.1401</td>\n",
       "      <td>0.2083</td>\n",
       "      <td>0.3513</td>\n",
       "      <td>...</td>\n",
       "      <td>0.0201</td>\n",
       "      <td>0.0248</td>\n",
       "      <td>0.0131</td>\n",
       "      <td>0.0070</td>\n",
       "      <td>0.0138</td>\n",
       "      <td>0.0092</td>\n",
       "      <td>0.0143</td>\n",
       "      <td>0.0036</td>\n",
       "      <td>0.0103</td>\n",
       "      <td>R</td>\n",
       "    </tr>\n",
       "    <tr>\n",
       "      <th>...</th>\n",
       "      <td>...</td>\n",
       "      <td>...</td>\n",
       "      <td>...</td>\n",
       "      <td>...</td>\n",
       "      <td>...</td>\n",
       "      <td>...</td>\n",
       "      <td>...</td>\n",
       "      <td>...</td>\n",
       "      <td>...</td>\n",
       "      <td>...</td>\n",
       "      <td>...</td>\n",
       "      <td>...</td>\n",
       "      <td>...</td>\n",
       "      <td>...</td>\n",
       "      <td>...</td>\n",
       "      <td>...</td>\n",
       "      <td>...</td>\n",
       "      <td>...</td>\n",
       "      <td>...</td>\n",
       "      <td>...</td>\n",
       "      <td>...</td>\n",
       "    </tr>\n",
       "    <tr>\n",
       "      <th>134</th>\n",
       "      <td>0.0731</td>\n",
       "      <td>0.1249</td>\n",
       "      <td>0.1665</td>\n",
       "      <td>0.1496</td>\n",
       "      <td>0.1443</td>\n",
       "      <td>0.2770</td>\n",
       "      <td>0.2555</td>\n",
       "      <td>0.1712</td>\n",
       "      <td>0.0466</td>\n",
       "      <td>0.1114</td>\n",
       "      <td>...</td>\n",
       "      <td>0.0444</td>\n",
       "      <td>0.0230</td>\n",
       "      <td>0.0290</td>\n",
       "      <td>0.0141</td>\n",
       "      <td>0.0161</td>\n",
       "      <td>0.0177</td>\n",
       "      <td>0.0194</td>\n",
       "      <td>0.0207</td>\n",
       "      <td>0.0057</td>\n",
       "      <td>M</td>\n",
       "    </tr>\n",
       "    <tr>\n",
       "      <th>135</th>\n",
       "      <td>0.0516</td>\n",
       "      <td>0.0944</td>\n",
       "      <td>0.0622</td>\n",
       "      <td>0.0415</td>\n",
       "      <td>0.0995</td>\n",
       "      <td>0.2431</td>\n",
       "      <td>0.1777</td>\n",
       "      <td>0.2018</td>\n",
       "      <td>0.2611</td>\n",
       "      <td>0.1294</td>\n",
       "      <td>...</td>\n",
       "      <td>0.0432</td>\n",
       "      <td>0.0274</td>\n",
       "      <td>0.0152</td>\n",
       "      <td>0.0120</td>\n",
       "      <td>0.0129</td>\n",
       "      <td>0.0020</td>\n",
       "      <td>0.0109</td>\n",
       "      <td>0.0074</td>\n",
       "      <td>0.0078</td>\n",
       "      <td>M</td>\n",
       "    </tr>\n",
       "    <tr>\n",
       "      <th>136</th>\n",
       "      <td>0.0015</td>\n",
       "      <td>0.0186</td>\n",
       "      <td>0.0289</td>\n",
       "      <td>0.0195</td>\n",
       "      <td>0.0515</td>\n",
       "      <td>0.0817</td>\n",
       "      <td>0.1005</td>\n",
       "      <td>0.0124</td>\n",
       "      <td>0.1168</td>\n",
       "      <td>0.1476</td>\n",
       "      <td>...</td>\n",
       "      <td>0.0108</td>\n",
       "      <td>0.0075</td>\n",
       "      <td>0.0089</td>\n",
       "      <td>0.0036</td>\n",
       "      <td>0.0029</td>\n",
       "      <td>0.0013</td>\n",
       "      <td>0.0010</td>\n",
       "      <td>0.0032</td>\n",
       "      <td>0.0047</td>\n",
       "      <td>M</td>\n",
       "    </tr>\n",
       "    <tr>\n",
       "      <th>137</th>\n",
       "      <td>0.0411</td>\n",
       "      <td>0.0277</td>\n",
       "      <td>0.0604</td>\n",
       "      <td>0.0525</td>\n",
       "      <td>0.0489</td>\n",
       "      <td>0.0385</td>\n",
       "      <td>0.0611</td>\n",
       "      <td>0.1117</td>\n",
       "      <td>0.1237</td>\n",
       "      <td>0.2300</td>\n",
       "      <td>...</td>\n",
       "      <td>0.0217</td>\n",
       "      <td>0.0038</td>\n",
       "      <td>0.0019</td>\n",
       "      <td>0.0065</td>\n",
       "      <td>0.0132</td>\n",
       "      <td>0.0108</td>\n",
       "      <td>0.0050</td>\n",
       "      <td>0.0085</td>\n",
       "      <td>0.0044</td>\n",
       "      <td>M</td>\n",
       "    </tr>\n",
       "    <tr>\n",
       "      <th>138</th>\n",
       "      <td>0.0270</td>\n",
       "      <td>0.0163</td>\n",
       "      <td>0.0341</td>\n",
       "      <td>0.0247</td>\n",
       "      <td>0.0822</td>\n",
       "      <td>0.1256</td>\n",
       "      <td>0.1323</td>\n",
       "      <td>0.1584</td>\n",
       "      <td>0.2017</td>\n",
       "      <td>0.2122</td>\n",
       "      <td>...</td>\n",
       "      <td>0.0189</td>\n",
       "      <td>0.0204</td>\n",
       "      <td>0.0085</td>\n",
       "      <td>0.0043</td>\n",
       "      <td>0.0092</td>\n",
       "      <td>0.0138</td>\n",
       "      <td>0.0094</td>\n",
       "      <td>0.0105</td>\n",
       "      <td>0.0093</td>\n",
       "      <td>M</td>\n",
       "    </tr>\n",
       "  </tbody>\n",
       "</table>\n",
       "<p>139 rows × 61 columns</p>\n",
       "</div>"
      ],
      "text/plain": [
       "         A1      A2      A3      A4      A5      A6      A7      A8      A9  \\\n",
       "0    0.0079  0.0086  0.0055  0.0250  0.0344  0.0546  0.0528  0.0958  0.1009   \n",
       "1    0.0599  0.0474  0.0498  0.0387  0.1026  0.0773  0.0853  0.0447  0.1094   \n",
       "2    0.0093  0.0269  0.0217  0.0339  0.0305  0.1172  0.1450  0.0638  0.0740   \n",
       "3    0.0151  0.0320  0.0599  0.1050  0.1163  0.1734  0.1679  0.1119  0.0889   \n",
       "4    0.0317  0.0956  0.1321  0.1408  0.1674  0.1710  0.0731  0.1401  0.2083   \n",
       "..      ...     ...     ...     ...     ...     ...     ...     ...     ...   \n",
       "134  0.0731  0.1249  0.1665  0.1496  0.1443  0.2770  0.2555  0.1712  0.0466   \n",
       "135  0.0516  0.0944  0.0622  0.0415  0.0995  0.2431  0.1777  0.2018  0.2611   \n",
       "136  0.0015  0.0186  0.0289  0.0195  0.0515  0.0817  0.1005  0.0124  0.1168   \n",
       "137  0.0411  0.0277  0.0604  0.0525  0.0489  0.0385  0.0611  0.1117  0.1237   \n",
       "138  0.0270  0.0163  0.0341  0.0247  0.0822  0.1256  0.1323  0.1584  0.2017   \n",
       "\n",
       "        A10  ...     A52     A53     A54     A55     A56     A57     A58  \\\n",
       "0    0.1240  ...  0.0176  0.0127  0.0088  0.0098  0.0019  0.0059  0.0058   \n",
       "1    0.0351  ...  0.0013  0.0005  0.0227  0.0209  0.0081  0.0117  0.0114   \n",
       "2    0.1360  ...  0.0212  0.0091  0.0056  0.0086  0.0092  0.0070  0.0116   \n",
       "3    0.1205  ...  0.0061  0.0015  0.0084  0.0128  0.0054  0.0011  0.0019   \n",
       "4    0.3513  ...  0.0201  0.0248  0.0131  0.0070  0.0138  0.0092  0.0143   \n",
       "..      ...  ...     ...     ...     ...     ...     ...     ...     ...   \n",
       "134  0.1114  ...  0.0444  0.0230  0.0290  0.0141  0.0161  0.0177  0.0194   \n",
       "135  0.1294  ...  0.0432  0.0274  0.0152  0.0120  0.0129  0.0020  0.0109   \n",
       "136  0.1476  ...  0.0108  0.0075  0.0089  0.0036  0.0029  0.0013  0.0010   \n",
       "137  0.2300  ...  0.0217  0.0038  0.0019  0.0065  0.0132  0.0108  0.0050   \n",
       "138  0.2122  ...  0.0189  0.0204  0.0085  0.0043  0.0092  0.0138  0.0094   \n",
       "\n",
       "        A59     A60  Class  \n",
       "0    0.0059  0.0032      R  \n",
       "1    0.0112  0.0100      M  \n",
       "2    0.0060  0.0110      R  \n",
       "3    0.0023  0.0062      R  \n",
       "4    0.0036  0.0103      R  \n",
       "..      ...     ...    ...  \n",
       "134  0.0207  0.0057      M  \n",
       "135  0.0074  0.0078      M  \n",
       "136  0.0032  0.0047      M  \n",
       "137  0.0085  0.0044      M  \n",
       "138  0.0105  0.0093      M  \n",
       "\n",
       "[139 rows x 61 columns]"
      ]
     },
     "execution_count": 197,
     "metadata": {},
     "output_type": "execute_result"
    }
   ],
   "source": [
    "#import libraries needed\n",
    "import pandas as pd\n",
    "import math\n",
    "import numpy as np\n",
    "\n",
    "#importing training data\n",
    "X_train = pd.read_csv('sonar_train.csv')\n",
    "#changing data to lists\n",
    "trainingSet = X_train.values.tolist()\n",
    "#importing testing data\n",
    "X_test = pd.read_csv('sonar_test.csv')\n",
    "#changing test data to lists\n",
    "testSet = X_test.values.tolist()\n",
    "#assigning labels to y\n",
    "y_train = X_train['Class']\n",
    "#visualising data\n",
    "X_train"
   ]
  },
  {
   "cell_type": "code",
   "execution_count": 198,
   "metadata": {},
   "outputs": [],
   "source": [
    "def euclideanDist(row1,row2):\n",
    "    ''' EuclideanDistance function to calculate euclidean distance. Takes 2 sets as inputs.\n",
    "        \n",
    "        I am creating a variable dist\n",
    "        I am iterating through length of row1-1 because the last variable is the label (String)\n",
    "        I am then adding the squared difference between values to dist.\n",
    "        \n",
    "        This function returns square root of dist\n",
    "    '''\n",
    "    dist = 0\n",
    "    for i in range(len(row1)-1):\n",
    "        dist += (row1[i]-row2[i])**2  \n",
    "    return dist**0.5"
   ]
  },
  {
   "cell_type": "code",
   "execution_count": 199,
   "metadata": {},
   "outputs": [
    {
     "data": {
      "text/plain": [
       "0.9932319970681575"
      ]
     },
     "execution_count": 199,
     "metadata": {},
     "output_type": "execute_result"
    }
   ],
   "source": [
    "#testing function\n",
    "euclideanDist(trainingSet[0], trainingSet[1])"
   ]
  },
  {
   "cell_type": "code",
   "execution_count": 200,
   "metadata": {},
   "outputs": [],
   "source": [
    "def manhattanDist(row1,row2):\n",
    "    ''' ManhattanDistance function to calculate manhattan distance. Takes 2 sets as inputs.\n",
    "        \n",
    "        I am creating a variable dist\n",
    "        I am iterating through length of row1-1 because the last variable is the label (String)\n",
    "        I am then adding the absolute difference between values to dist.\n",
    "        \n",
    "        This function returns dist\n",
    "    '''\n",
    "    dist = 0\n",
    "    for i in range(len(row1)-1):\n",
    "        dist+= abs(row1[i]-row2[i])\n",
    "    return dist"
   ]
  },
  {
   "cell_type": "code",
   "execution_count": 201,
   "metadata": {},
   "outputs": [
    {
     "data": {
      "text/plain": [
       "5.4916"
      ]
     },
     "execution_count": 201,
     "metadata": {},
     "output_type": "execute_result"
    }
   ],
   "source": [
    "#testing function\n",
    "manhattanDist(trainingSet[0], trainingSet[1])"
   ]
  },
  {
   "cell_type": "code",
   "execution_count": 202,
   "metadata": {},
   "outputs": [
    {
     "data": {
      "text/plain": [
       "'R'"
      ]
     },
     "execution_count": 202,
     "metadata": {},
     "output_type": "execute_result"
    }
   ],
   "source": [
    "#understanding how to pull the label from a list\n",
    "trainingSet[0][len(trainingSet[0])-1]"
   ]
  },
  {
   "cell_type": "code",
   "execution_count": 203,
   "metadata": {},
   "outputs": [],
   "source": [
    "def nearestNeighbours(unknown,dataset, distanceType):\n",
    "    ''' nearestNeighbors function: takes unknown(value you want to find the neighbours for), dataset, and distanceType - euclidean\n",
    "        or manhattan\n",
    "    \n",
    "        creating an empty array: distances\n",
    "        \n",
    "        iterating through dataset - if distanceType is euclidean, I am calculating euclidean distance between unknown and rows and \n",
    "        storing it in distance_to_point; if distanceType is manhattam, I am calculating manhattan distance between unknown and rows\n",
    "        and storing it in distance_to_point.\n",
    "        I am then adding the distance between points and their corresponding label to the distances array.\n",
    "        \n",
    "        I am then sorting the array in ascending order to get the closest neighbours first\n",
    "        The function returns the first element of the array(as it is the nearest neighbour)\n",
    "    '''\n",
    "    distances = []\n",
    "    \n",
    "    for i in range(len(dataset)):\n",
    "        if(distanceType == 'euclidean'):\n",
    "            distance_to_point = euclideanDist(dataset[i], unknown)\n",
    "            distances.append([distance_to_point, dataset[i][len(dataset[i])-1]])\n",
    "        else:\n",
    "            distance_to_point = manhattanDist(dataset[i], unknown)\n",
    "            distances.append([distance_to_point, dataset[i][len(dataset[i])-1]])\n",
    "    distances.sort()\n",
    "    return distances[0]\n"
   ]
  },
  {
   "cell_type": "code",
   "execution_count": 204,
   "metadata": {},
   "outputs": [
    {
     "data": {
      "text/plain": [
       "2"
      ]
     },
     "execution_count": 204,
     "metadata": {},
     "output_type": "execute_result"
    }
   ],
   "source": [
    "#testing function\n",
    "len(nearestNeighbours(trainingSet[0], trainingSet, 'euclidean'))"
   ]
  },
  {
   "cell_type": "code",
   "execution_count": 205,
   "metadata": {},
   "outputs": [
    {
     "data": {
      "text/plain": [
       "[0.8448369191743457, 'M']"
      ]
     },
     "execution_count": 205,
     "metadata": {},
     "output_type": "execute_result"
    }
   ],
   "source": [
    "#understanding output\n",
    "nearestNeighbours(testSet[5], trainingSet, 'euclidean')"
   ]
  },
  {
   "cell_type": "code",
   "execution_count": 206,
   "metadata": {},
   "outputs": [
    {
     "data": {
      "text/plain": [
       "[1.5488999999999995, 'R']"
      ]
     },
     "execution_count": 206,
     "metadata": {},
     "output_type": "execute_result"
    }
   ],
   "source": [
    "#testing with different distances\n",
    "nearestNeighbours(testSet[0], trainingSet, 'manhattan')"
   ]
  },
  {
   "cell_type": "code",
   "execution_count": 207,
   "metadata": {},
   "outputs": [],
   "source": [
    "#creating 2 empty arrays that will store nearest values for testSet\n",
    "listNeighboursEuclidean = []\n",
    "listNeighboursManhattan = []"
   ]
  },
  {
   "cell_type": "code",
   "execution_count": 208,
   "metadata": {},
   "outputs": [],
   "source": [
    "for key in range(len(testSet)):\n",
    "    #adding values calculated with euclidean distance\n",
    "    listNeighboursEuclidean.append(nearestNeighbours(testSet[key], trainingSet, 'euclidean'))"
   ]
  },
  {
   "cell_type": "code",
   "execution_count": 209,
   "metadata": {},
   "outputs": [],
   "source": [
    "for key in range(len(testSet)):\n",
    "    #adding values calculated with manhattan distance\n",
    "    listNeighboursManhattan.append(nearestNeighbours(testSet[key], trainingSet, 'manhattan'))"
   ]
  },
  {
   "cell_type": "code",
   "execution_count": 210,
   "metadata": {},
   "outputs": [
    {
     "data": {
      "text/plain": [
       "[[0.29782956535575844, 'R'],\n",
       " [0.7628864922123081, 'M'],\n",
       " [0.40446485632252405, 'M'],\n",
       " [0.7226501712447037, 'R'],\n",
       " [0.557141938827082, 'R'],\n",
       " [0.8448369191743457, 'M'],\n",
       " [1.0400208363297343, 'M'],\n",
       " [0.4185054121513843, 'M'],\n",
       " [0.33036741667422354, 'M'],\n",
       " [1.3180674224029663, 'M'],\n",
       " [0.8277477876744822, 'R'],\n",
       " [0.23072565960464825, 'R'],\n",
       " [1.2603802085085283, 'R'],\n",
       " [0.7622035948485155, 'R'],\n",
       " [1.0174495614034142, 'M'],\n",
       " [0.5580611884014154, 'M'],\n",
       " [0.17464091731321155, 'M'],\n",
       " [1.126116699103605, 'R'],\n",
       " [0.5233976595285845, 'M'],\n",
       " [0.5798467211255057, 'M'],\n",
       " [0.6742314587736172, 'M'],\n",
       " [0.48615216753605034, 'R'],\n",
       " [0.438522279935695, 'R'],\n",
       " [1.1832399038233958, 'R'],\n",
       " [0.427687245542815, 'R'],\n",
       " [0.5784981158136991, 'M'],\n",
       " [0.2391251764243991, 'R'],\n",
       " [0.7020349635167752, 'R'],\n",
       " [0.5498896798449667, 'M'],\n",
       " [0.767016825108811, 'M'],\n",
       " [0.28254068733547033, 'M'],\n",
       " [0.7313223229192448, 'M'],\n",
       " [0.7118508762374322, 'M'],\n",
       " [0.48656831997161504, 'R'],\n",
       " [0.7037215642567732, 'M'],\n",
       " [0.43364901706333897, 'M'],\n",
       " [1.2475021563107616, 'M'],\n",
       " [0.4915194502763853, 'M'],\n",
       " [0.5255018744019854, 'M'],\n",
       " [0.7346626572788356, 'R'],\n",
       " [0.8104521392408068, 'R'],\n",
       " [0.2954835697631934, 'M'],\n",
       " [0.6476040688568903, 'M'],\n",
       " [1.1330828213330215, 'M'],\n",
       " [1.5268590242717235, 'M'],\n",
       " [0.8060577522733715, 'R'],\n",
       " [0.2995681391603587, 'R'],\n",
       " [0.668337257677589, 'M'],\n",
       " [0.9885970412660561, 'R'],\n",
       " [0.7800203458884902, 'R'],\n",
       " [0.6299107476460455, 'M'],\n",
       " [0.8392796613763497, 'R'],\n",
       " [1.091265109861027, 'R'],\n",
       " [0.7228770504034555, 'M'],\n",
       " [0.852315839345955, 'M'],\n",
       " [0.8280518884707648, 'R'],\n",
       " [0.5307313067833854, 'M'],\n",
       " [0.41884738270639826, 'R'],\n",
       " [0.45174045645702354, 'M'],\n",
       " [1.0715037657423327, 'M'],\n",
       " [1.3726134597912114, 'R'],\n",
       " [0.7766645092960025, 'M'],\n",
       " [0.6329908530144808, 'M'],\n",
       " [0.4479448961646958, 'R'],\n",
       " [0.27632337939450574, 'M'],\n",
       " [0.5284753447418337, 'M'],\n",
       " [1.0331413891621997, 'M'],\n",
       " [0.7160533150541237, 'M'],\n",
       " [1.1037770880028268, 'M']]"
      ]
     },
     "execution_count": 210,
     "metadata": {},
     "output_type": "execute_result"
    }
   ],
   "source": [
    "#checking list\n",
    "listNeighboursEuclidean"
   ]
  },
  {
   "cell_type": "code",
   "execution_count": 211,
   "metadata": {},
   "outputs": [
    {
     "data": {
      "text/plain": [
       "[[1.5488999999999995, 'R'],\n",
       " [4.231199999999999, 'M'],\n",
       " [2.259199999999999, 'M'],\n",
       " [3.9154999999999993, 'R'],\n",
       " [2.987799999999999, 'R'],\n",
       " [4.472800000000002, 'M'],\n",
       " [5.263399999999999, 'M'],\n",
       " [2.2638000000000003, 'M'],\n",
       " [1.9199, 'M'],\n",
       " [6.775099999999999, 'M'],\n",
       " [4.3020000000000005, 'R'],\n",
       " [1.2953000000000001, 'R'],\n",
       " [6.394099999999997, 'R'],\n",
       " [4.050799999999997, 'R'],\n",
       " [5.570999999999997, 'M'],\n",
       " [2.9233999999999996, 'M'],\n",
       " [0.9809000000000001, 'M'],\n",
       " [6.082500000000002, 'R'],\n",
       " [2.8252000000000006, 'M'],\n",
       " [3.1848, 'M'],\n",
       " [3.475800000000001, 'M'],\n",
       " [2.4782999999999986, 'R'],\n",
       " [2.458300000000001, 'R'],\n",
       " [5.659900000000002, 'R'],\n",
       " [2.5304, 'R'],\n",
       " [3.3985000000000007, 'M'],\n",
       " [1.3025000000000002, 'R'],\n",
       " [3.4374999999999996, 'R'],\n",
       " [3.238400000000001, 'M'],\n",
       " [4.463699999999999, 'M'],\n",
       " [1.572, 'M'],\n",
       " [4.144000000000002, 'M'],\n",
       " [3.8579000000000003, 'M'],\n",
       " [2.7379, 'R'],\n",
       " [3.8734, 'M'],\n",
       " [2.3795, 'M'],\n",
       " [6.655899999999999, 'M'],\n",
       " [2.7199000000000004, 'M'],\n",
       " [3.0052000000000008, 'M'],\n",
       " [4.1362000000000005, 'R'],\n",
       " [4.490899999999999, 'R'],\n",
       " [1.6305999999999996, 'M'],\n",
       " [3.342199999999999, 'M'],\n",
       " [5.6171999999999995, 'M'],\n",
       " [8.2707, 'R'],\n",
       " [4.6028, 'R'],\n",
       " [1.7449999999999999, 'R'],\n",
       " [3.8835000000000006, 'M'],\n",
       " [5.575099999999999, 'R'],\n",
       " [4.1907999999999985, 'R'],\n",
       " [3.6271000000000013, 'M'],\n",
       " [4.6343000000000005, 'R'],\n",
       " [5.667999999999999, 'M'],\n",
       " [3.9085000000000014, 'M'],\n",
       " [5.125300000000001, 'M'],\n",
       " [4.473500000000001, 'R'],\n",
       " [3.0552000000000006, 'M'],\n",
       " [2.246300000000001, 'R'],\n",
       " [2.4930000000000008, 'M'],\n",
       " [5.7629, 'R'],\n",
       " [6.5301, 'M'],\n",
       " [4.329600000000002, 'M'],\n",
       " [3.2621999999999995, 'M'],\n",
       " [2.3966999999999987, 'R'],\n",
       " [1.4959, 'M'],\n",
       " [2.6388999999999996, 'M'],\n",
       " [5.3769, 'M'],\n",
       " [3.9299000000000013, 'M'],\n",
       " [5.7669, 'R']]"
      ]
     },
     "execution_count": 211,
     "metadata": {},
     "output_type": "execute_result"
    }
   ],
   "source": [
    "#checking list\n",
    "listNeighboursManhattan"
   ]
  },
  {
   "cell_type": "code",
   "execution_count": 212,
   "metadata": {},
   "outputs": [
    {
     "data": {
      "text/plain": [
       "'R'"
      ]
     },
     "execution_count": 212,
     "metadata": {},
     "output_type": "execute_result"
    }
   ],
   "source": [
    "#understanding how to extract label\n",
    "listNeighboursEuclidean[0][1]"
   ]
  },
  {
   "cell_type": "code",
   "execution_count": 213,
   "metadata": {},
   "outputs": [],
   "source": [
    "def getAccuracy(testSet, pred):\n",
    "    ''' Accuracy function - takes testSet and the prediction as input\n",
    "    \n",
    "        initiliase a variable: correct\n",
    "        \n",
    "        Iterating through the length of the testSet, and if the labels of every list match the predicted labels, add 1 to correct\n",
    "        \n",
    "        return the accuracy by dividing the correct variable by length, and multiplying by 100\n",
    "        I am rounding the answer to 1 decimal place\n",
    "    '''\n",
    "    correct = 0\n",
    "    for x in range(len(testSet)):\n",
    "        if testSet[x][-1] is pred[x][1]:\n",
    "            correct += 1\n",
    "    return round(((correct/float(len(testSet))) * 100.0),2)"
   ]
  },
  {
   "cell_type": "code",
   "execution_count": 214,
   "metadata": {},
   "outputs": [
    {
     "data": {
      "text/plain": [
       "89.86"
      ]
     },
     "execution_count": 214,
     "metadata": {},
     "output_type": "execute_result"
    }
   ],
   "source": [
    "#accuracy for euclidean distance\n",
    "getAccuracy(testSet, listNeighboursEuclidean)"
   ]
  },
  {
   "cell_type": "code",
   "execution_count": 215,
   "metadata": {},
   "outputs": [
    {
     "data": {
      "text/plain": [
       "88.41"
      ]
     },
     "execution_count": 215,
     "metadata": {},
     "output_type": "execute_result"
    }
   ],
   "source": [
    "#accuracy for manhattan \n",
    "getAccuracy(testSet, listNeighboursManhattan)"
   ]
  },
  {
   "cell_type": "code",
   "execution_count": 216,
   "metadata": {},
   "outputs": [],
   "source": [
    "#\n",
    "#\n",
    "#\n",
    "#TESTING WITH SKLEARN\n",
    "#\n",
    "#\n",
    "#\n",
    "\n",
    "X_train = pd.read_csv('sonar_train.csv')\n",
    "y_train = X_train['Class']\n",
    "X_test = pd.read_csv('sonar_test.csv')\n",
    "y_test = X_test['Class']\n",
    "X_train = X_train.drop(columns=['Class'])\n",
    "X_test = X_test.drop(columns=['Class'])"
   ]
  },
  {
   "cell_type": "code",
   "execution_count": 217,
   "metadata": {},
   "outputs": [
    {
     "data": {
      "text/plain": [
       "KNeighborsClassifier(algorithm='auto', leaf_size=30, metric='manhattan',\n",
       "                     metric_params=None, n_jobs=None, n_neighbors=1, p=2,\n",
       "                     weights='uniform')"
      ]
     },
     "execution_count": 217,
     "metadata": {},
     "output_type": "execute_result"
    }
   ],
   "source": [
    "from sklearn.neighbors import KNeighborsClassifier\n",
    "from sklearn.metrics import accuracy_score\n",
    "\n",
    "\n",
    "#X_train = X_train.drop(columns=['Class'])\n",
    "neigh = KNeighborsClassifier(n_neighbors=1, metric='manhattan')\n",
    "neigh.fit(X_train, y_train)\n"
   ]
  },
  {
   "cell_type": "code",
   "execution_count": 218,
   "metadata": {},
   "outputs": [
    {
     "data": {
      "text/plain": [
       "88.41"
      ]
     },
     "execution_count": 218,
     "metadata": {},
     "output_type": "execute_result"
    }
   ],
   "source": [
    "y_pred = neigh.predict(X_test)\n",
    "y_pred\n",
    "\n",
    "round((accuracy_score(y_pred, y_test)*100),2)"
   ]
  },
  {
   "cell_type": "code",
   "execution_count": null,
   "metadata": {},
   "outputs": [],
   "source": []
  },
  {
   "cell_type": "code",
   "execution_count": null,
   "metadata": {},
   "outputs": [],
   "source": []
  }
 ],
 "metadata": {
  "kernelspec": {
   "display_name": "Python 3",
   "language": "python",
   "name": "python3"
  },
  "language_info": {
   "codemirror_mode": {
    "name": "ipython",
    "version": 3
   },
   "file_extension": ".py",
   "mimetype": "text/x-python",
   "name": "python",
   "nbconvert_exporter": "python",
   "pygments_lexer": "ipython3",
   "version": "3.7.4"
  }
 },
 "nbformat": 4,
 "nbformat_minor": 4
}
